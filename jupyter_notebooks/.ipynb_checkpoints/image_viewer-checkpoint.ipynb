{
 "cells": [
  {
   "cell_type": "code",
   "execution_count": 7,
   "metadata": {
    "collapsed": true
   },
   "outputs": [],
   "source": [
    "from ipywidgets import widgets, interact, interactive, IntSlider\n",
    "from IPython.display import display\n",
    "import dicom\n",
    "import numpy as np\n",
    "import pandas as pd\n",
    "import scipy.ndimage\n",
    "import os\n",
    "import matplotlib.pyplot as plt\n",
    "%matplotlib inline"
   ]
  },
  {
   "cell_type": "code",
   "execution_count": 8,
   "metadata": {
    "collapsed": false
   },
   "outputs": [],
   "source": [
    "# scan_path = os.path.join(os.getcwd(),'stage1') #Assume this notebook is in the same folder as the data\n",
    "\n",
    "scan_path = 'E:\\\\DSB 2017\\\\stage1' #Hard code the location of the data\n",
    "patients = sorted(os.listdir(scan_path))"
   ]
  },
  {
   "cell_type": "code",
   "execution_count": 9,
   "metadata": {
    "collapsed": false
   },
   "outputs": [
    {
     "ename": "IOError",
     "evalue": "[Errno 13] Permission denied: 'E:\\\\DSB 2017\\\\stage1\\\\stage1\\\\0015ceb851d7251b8f399e39779d1e7d'",
     "output_type": "error",
     "traceback": [
      "\u001b[1;31m---------------------------------------------------------------------------\u001b[0m",
      "\u001b[1;31mIOError\u001b[0m                                   Traceback (most recent call last)",
      "\u001b[1;32m<ipython-input-9-b6570f0ec0d5>\u001b[0m in \u001b[0;36m<module>\u001b[1;34m()\u001b[0m\n\u001b[0;32m      7\u001b[0m \u001b[0mimage_slider\u001b[0m\u001b[1;33m.\u001b[0m\u001b[0mmax\u001b[0m \u001b[1;33m=\u001b[0m \u001b[0mnum_scans\u001b[0m\u001b[1;33m\u001b[0m\u001b[0m\n\u001b[0;32m      8\u001b[0m \u001b[1;33m\u001b[0m\u001b[0m\n\u001b[1;32m----> 9\u001b[1;33m \u001b[0mimg_pixels\u001b[0m \u001b[1;33m=\u001b[0m \u001b[0mdicom\u001b[0m\u001b[1;33m.\u001b[0m\u001b[0mread_file\u001b[0m\u001b[1;33m(\u001b[0m\u001b[0mos\u001b[0m\u001b[1;33m.\u001b[0m\u001b[0mpath\u001b[0m\u001b[1;33m.\u001b[0m\u001b[0mjoin\u001b[0m\u001b[1;33m(\u001b[0m\u001b[0mpatient_path\u001b[0m\u001b[1;33m,\u001b[0m\u001b[0mimage_list\u001b[0m\u001b[1;33m[\u001b[0m\u001b[0mimage_slider\u001b[0m\u001b[1;33m.\u001b[0m\u001b[0mvalue\u001b[0m\u001b[1;33m]\u001b[0m\u001b[1;33m)\u001b[0m\u001b[1;33m)\u001b[0m\u001b[1;33m.\u001b[0m\u001b[0mpixel_array\u001b[0m\u001b[1;33m\u001b[0m\u001b[0m\n\u001b[0m\u001b[0;32m     10\u001b[0m \u001b[0mmy_img\u001b[0m \u001b[1;33m=\u001b[0m \u001b[0mplt\u001b[0m\u001b[1;33m.\u001b[0m\u001b[0mimshow\u001b[0m\u001b[1;33m(\u001b[0m\u001b[0mimg_pixels\u001b[0m\u001b[1;33m,\u001b[0m\u001b[0mcmap\u001b[0m\u001b[1;33m=\u001b[0m\u001b[0mplt\u001b[0m\u001b[1;33m.\u001b[0m\u001b[0mcm\u001b[0m\u001b[1;33m.\u001b[0m\u001b[0mgray\u001b[0m\u001b[1;33m)\u001b[0m\u001b[1;33m\u001b[0m\u001b[0m\n\u001b[0;32m     11\u001b[0m \u001b[0mplt\u001b[0m\u001b[1;33m.\u001b[0m\u001b[0mshow\u001b[0m\u001b[1;33m(\u001b[0m\u001b[1;33m)\u001b[0m\u001b[1;33m\u001b[0m\u001b[0m\n",
      "\u001b[1;32mC:\\Program Files\\Anaconda2\\lib\\site-packages\\dicom\\filereader.pyc\u001b[0m in \u001b[0;36mread_file\u001b[1;34m(fp, defer_size, stop_before_pixels, force)\u001b[0m\n\u001b[0;32m    587\u001b[0m         \u001b[0mcaller_owns_file\u001b[0m \u001b[1;33m=\u001b[0m \u001b[0mFalse\u001b[0m\u001b[1;33m\u001b[0m\u001b[0m\n\u001b[0;32m    588\u001b[0m         \u001b[0mlogger\u001b[0m\u001b[1;33m.\u001b[0m\u001b[0mdebug\u001b[0m\u001b[1;33m(\u001b[0m\u001b[1;34mu\"Reading file '{0}'\"\u001b[0m\u001b[1;33m.\u001b[0m\u001b[0mformat\u001b[0m\u001b[1;33m(\u001b[0m\u001b[0mfp\u001b[0m\u001b[1;33m)\u001b[0m\u001b[1;33m)\u001b[0m\u001b[1;33m\u001b[0m\u001b[0m\n\u001b[1;32m--> 589\u001b[1;33m         \u001b[0mfp\u001b[0m \u001b[1;33m=\u001b[0m \u001b[0mopen\u001b[0m\u001b[1;33m(\u001b[0m\u001b[0mfp\u001b[0m\u001b[1;33m,\u001b[0m \u001b[1;34m'rb'\u001b[0m\u001b[1;33m)\u001b[0m\u001b[1;33m\u001b[0m\u001b[0m\n\u001b[0m\u001b[0;32m    590\u001b[0m \u001b[1;33m\u001b[0m\u001b[0m\n\u001b[0;32m    591\u001b[0m     \u001b[1;32mif\u001b[0m \u001b[0mdicom\u001b[0m\u001b[1;33m.\u001b[0m\u001b[0mdebugging\u001b[0m\u001b[1;33m:\u001b[0m\u001b[1;33m\u001b[0m\u001b[0m\n",
      "\u001b[1;31mIOError\u001b[0m: [Errno 13] Permission denied: 'E:\\\\DSB 2017\\\\stage1\\\\stage1\\\\0015ceb851d7251b8f399e39779d1e7d'"
     ]
    }
   ],
   "source": [
    "patient_list = widgets.Select(description = 'Patients',options = patients)\n",
    "image_slider = IntSlider(description = \"Image Number\", min = 0)\n",
    "\n",
    "patient_path = os.path.join(scan_path,patient_list.value)\n",
    "image_list = os.listdir(patient_path)\n",
    "num_scans = len(os.listdir(patient_path))\n",
    "image_slider.max = num_scans\n",
    "\n",
    "img_pixels = dicom.read_file(os.path.join(patient_path,image_list[image_slider.value])).pixel_array\n",
    "my_img = plt.imshow(img_pixels,cmap=plt.cm.gray)\n",
    "plt.show()\n",
    "\n",
    "def update_image_slider(args):\n",
    "    patient_path = os.path.join(scan_path,args['new'])\n",
    "    num_scans = len(os.listdir(patient_path))\n",
    "    image_list = os.listdir(patient_path)\n",
    "    image_slider.max = num_scans\n",
    "    \n",
    "def view_image(args):\n",
    "    img = dicom.read_file(os.path.join(patient_path,image_list[int(args['new'])])) \n",
    "    img_pixels = img.pixel_array\n",
    "    my_img = plt.imshow(img_pixels,cmap=plt.cm.gray)\n",
    "    plt.show()\n",
    "    \n",
    "    \n",
    "patient_list.observe(update_image_slider,'value')\n",
    "image_slider.observe(view_image,'value')\n",
    "\n",
    "display(patient_list)\n",
    "display(image_slider)"
   ]
  },
  {
   "cell_type": "code",
   "execution_count": null,
   "metadata": {
    "collapsed": true
   },
   "outputs": [],
   "source": []
  }
 ],
 "metadata": {
  "anaconda-cloud": {},
  "kernelspec": {
   "display_name": "Python [Root]",
   "language": "python",
   "name": "Python [Root]"
  },
  "language_info": {
   "codemirror_mode": {
    "name": "ipython",
    "version": 2
   },
   "file_extension": ".py",
   "mimetype": "text/x-python",
   "name": "python",
   "nbconvert_exporter": "python",
   "pygments_lexer": "ipython2",
   "version": "2.7.12"
  },
  "widgets": {
   "state": {
    "6b7c07a93e6b4281bd47ba4ab4d7928d": {
     "views": [
      {
       "cell_index": 1
      }
     ]
    },
    "925d3bc1e44343aca4fbcc8c99597365": {
     "views": [
      {
       "cell_index": 1
      }
     ]
    },
    "92ab4159561941e698dacaad12451708": {
     "views": [
      {
       "cell_index": 1
      }
     ]
    },
    "94b7f649fe4c402081ef9c7c725b0587": {
     "views": [
      {
       "cell_index": 1
      }
     ]
    },
    "bbfbb06ab3cf44678851da0024723e50": {
     "views": [
      {
       "cell_index": 1
      }
     ]
    },
    "c81b60db27a342588c4c69629936e76c": {
     "views": [
      {
       "cell_index": 1
      }
     ]
    },
    "e8769794c753452cb40b9c98220b947b": {
     "views": [
      {
       "cell_index": 1
      }
     ]
    }
   },
   "version": "1.2.0"
  }
 },
 "nbformat": 4,
 "nbformat_minor": 1
}
