{
 "cells": [
  {
   "cell_type": "markdown",
   "metadata": {},
   "source": [
    "# Image Viewer"
   ]
  },
  {
   "cell_type": "markdown",
   "metadata": {},
   "source": [
    "The current version of the image viewer allows for efficient lookup of any of the thousands of DICOM images in the DSB 2017 dataset.  The image viewer does not yet support RAW files"
   ]
  },
  {
   "cell_type": "markdown",
   "metadata": {},
   "source": [
    "**Improvements**\n",
    "* Add support for RAW files (file format of LUNA images)\n",
    "* Incorporate whether or not patient has cancer into the display\n",
    "* For LUNA images, highlight labeled nodes with circle"
   ]
  },
  {
   "cell_type": "code",
   "execution_count": null,
   "metadata": {
    "collapsed": true
   },
   "outputs": [],
   "source": [
    "import os\n",
    "import dicom\n",
    "import numpy as np\n",
    "from ipywidgets import widgets, interact, interactive, IntSlider\n",
    "from IPython.display import display,clear_output\n",
    "import matplotlib.pyplot as plt\n",
    "%matplotlib inline"
   ]
  },
  {
   "cell_type": "code",
   "execution_count": null,
   "metadata": {
    "collapsed": false
   },
   "outputs": [],
   "source": [
    "# Load list of all patients\n",
    "# scan_path = os.path.join(os.getcwd(),'stage1') #Assume this notebook is in the same folder as the data\n",
    "scan_path = 'E:\\\\DSB 2017\\\\stage1\\\\stage1' #Hard code the location of the data\n",
    "patients = sorted(os.listdir(scan_path))"
   ]
  },
  {
   "cell_type": "code",
   "execution_count": null,
   "metadata": {
    "collapsed": true
   },
   "outputs": [],
   "source": [
    "#Instantiate Controls\n",
    "patient_list = widgets.Select(description = 'Patients',options = patients)  # populate the drop down with the sorted list of patients\n",
    "img_slider = IntSlider(description = \"Image Number\", min = 0) # create image slider and set min = 0; we won't know the max until a patient is selected"
   ]
  },
  {
   "cell_type": "code",
   "execution_count": null,
   "metadata": {
    "collapsed": false
   },
   "outputs": [],
   "source": [
    "# Function to load a pations data\n",
    "def load_patient(args = ''):\n",
    "    patient_path = os.path.join(scan_path,patient_list.value)  #store the path to the selected patient\n",
    "    global slices\n",
    "    slices = [dicom.read_file(patient_path + '/' + s) for s in os.listdir(patient_path)] #read in the individual slices\n",
    "    slices.sort(key = lambda x: int(x.ImagePositionPatient[2])) #sort slices based on vertical position\n",
    "    img_slider.max = len(slices) - 1 #set the max of the image slider\n",
    "    plot_img()"
   ]
  },
  {
   "cell_type": "code",
   "execution_count": null,
   "metadata": {
    "collapsed": true
   },
   "outputs": [],
   "source": [
    "def plot_img(args = ''):\n",
    "    img = slices[img_slider.value].pixel_array #extract the image data from the selected slice\n",
    "    clear_output()\n",
    "    fig, ax = plt.subplots(figsize=(7, 7))\n",
    "    ax.imshow(img,cmap=plt.cm.gray)\n",
    "    ax.axes.axis('off')"
   ]
  },
  {
   "cell_type": "code",
   "execution_count": null,
   "metadata": {
    "collapsed": false,
    "scrolled": false
   },
   "outputs": [],
   "source": [
    "patient_list.observe(load_patient,'value')\n",
    "img_slider.observe(plot_img,'value')\n",
    "\n",
    "display(patient_list)\n",
    "display(img_slider)\n",
    "\n",
    "load_patient()"
   ]
  },
  {
   "cell_type": "code",
   "execution_count": null,
   "metadata": {
    "collapsed": true
   },
   "outputs": [],
   "source": []
  },
  {
   "cell_type": "code",
   "execution_count": null,
   "metadata": {
    "collapsed": true
   },
   "outputs": [],
   "source": []
  },
  {
   "cell_type": "code",
   "execution_count": null,
   "metadata": {
    "collapsed": true
   },
   "outputs": [],
   "source": []
  },
  {
   "cell_type": "code",
   "execution_count": null,
   "metadata": {
    "collapsed": true
   },
   "outputs": [],
   "source": []
  },
  {
   "cell_type": "code",
   "execution_count": null,
   "metadata": {
    "collapsed": true
   },
   "outputs": [],
   "source": []
  },
  {
   "cell_type": "code",
   "execution_count": null,
   "metadata": {
    "collapsed": true
   },
   "outputs": [],
   "source": []
  },
  {
   "cell_type": "code",
   "execution_count": null,
   "metadata": {
    "collapsed": true
   },
   "outputs": [],
   "source": []
  },
  {
   "cell_type": "code",
   "execution_count": null,
   "metadata": {
    "collapsed": true
   },
   "outputs": [],
   "source": []
  }
 ],
 "metadata": {
  "anaconda-cloud": {},
  "kernelspec": {
   "display_name": "Python [Root]",
   "language": "python",
   "name": "Python [Root]"
  },
  "language_info": {
   "codemirror_mode": {
    "name": "ipython",
    "version": 2
   },
   "file_extension": ".py",
   "mimetype": "text/x-python",
   "name": "python",
   "nbconvert_exporter": "python",
   "pygments_lexer": "ipython2",
   "version": "2.7.12"
  },
  "widgets": {
   "state": {
    "6b7c07a93e6b4281bd47ba4ab4d7928d": {
     "views": [
      {
       "cell_index": 1
      }
     ]
    },
    "925d3bc1e44343aca4fbcc8c99597365": {
     "views": [
      {
       "cell_index": 1
      }
     ]
    },
    "92ab4159561941e698dacaad12451708": {
     "views": [
      {
       "cell_index": 1
      }
     ]
    },
    "94b7f649fe4c402081ef9c7c725b0587": {
     "views": [
      {
       "cell_index": 1
      }
     ]
    },
    "bbfbb06ab3cf44678851da0024723e50": {
     "views": [
      {
       "cell_index": 1
      }
     ]
    },
    "c81b60db27a342588c4c69629936e76c": {
     "views": [
      {
       "cell_index": 1
      }
     ]
    },
    "e8769794c753452cb40b9c98220b947b": {
     "views": [
      {
       "cell_index": 1
      }
     ]
    }
   },
   "version": "1.2.0"
  }
 },
 "nbformat": 4,
 "nbformat_minor": 1
}
