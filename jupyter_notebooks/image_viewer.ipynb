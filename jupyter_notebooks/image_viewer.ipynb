{
 "cells": [
  {
   "cell_type": "markdown",
   "metadata": {},
   "source": [
    "# Image Viewer"
   ]
  },
  {
   "cell_type": "markdown",
   "metadata": {},
   "source": [
    "The current version of the image viewer allows for efficient lookup of any of the thousands of DICOM images in the DSB 2017 dataset or RAW files in the associated LUNA16 dataset"
   ]
  },
  {
   "cell_type": "markdown",
   "metadata": {},
   "source": [
    "**Ideas for Improvements:**\n",
    "* For DSB Images, incorporate whether or not patient has cancer into the display (perhaps with red/green border?)\n",
    "* For LUNA images, highlight labeled nodes (perhaps with circle?)"
   ]
  },
  {
   "cell_type": "markdown",
   "metadata": {},
   "source": [
    "**Important Notes:**\n",
    "* This script assumes that all LUNA files are one level below the LUNA16 folder in you file structure (and not in subfolders).  You may need to rearrange your file directories to conform to this expectation\n",
    "* You will need to have the PyDICOM and SimpleITK libraries installed to run this script.  Run the following cell to install these libraries."
   ]
  },
  {
   "cell_type": "markdown",
   "metadata": {},
   "source": [
    "# DICOM Image Viewer"
   ]
  },
  {
   "cell_type": "code",
   "execution_count": null,
   "metadata": {
    "collapsed": false
   },
   "outputs": [],
   "source": [
    "%%cmd\n",
    "pip install pydicom\n",
    "pip install SimpleITK"
   ]
  },
  {
   "cell_type": "code",
   "execution_count": null,
   "metadata": {
    "collapsed": false
   },
   "outputs": [],
   "source": [
    "import os\n",
    "import dicom\n",
    "import SimpleITK as sitk\n",
    "import numpy as np\n",
    "from ipywidgets import widgets, interact, interactive, IntSlider\n",
    "from IPython.display import display,clear_output\n",
    "import matplotlib.pyplot as plt\n",
    "%matplotlib inline"
   ]
  },
  {
   "cell_type": "code",
   "execution_count": null,
   "metadata": {
    "collapsed": false
   },
   "outputs": [],
   "source": [
    "# Load list of all patients\n",
    "dicom_path = 'E:\\\\DSB 2017\\\\stage1\\\\stage1' #Hard code the location of the data\n",
    "dicom_patients = sorted(os.listdir(dicom_path))"
   ]
  },
  {
   "cell_type": "code",
   "execution_count": null,
   "metadata": {
    "collapsed": true
   },
   "outputs": [],
   "source": [
    "#Instantiate Controls\n",
    "dicom_patient_list = widgets.Select(description = 'Patients',options = dicom_patients)  # populate the drop down with the sorted list of patients\n",
    "dicom_img_slider = IntSlider(description = \"Image Number\", min = 0) # create image slider and set min = 0; we won't know the max until a patient is selected"
   ]
  },
  {
   "cell_type": "code",
   "execution_count": null,
   "metadata": {
    "collapsed": false
   },
   "outputs": [],
   "source": [
    "# Function to load a patient's data\n",
    "def load_dicom_patient(args = ''):\n",
    "    dicom_patient_path = os.path.join(dicom_path,dicom_patient_list.value)  #store the path to the selected patient\n",
    "    global dicom_slices\n",
    "    dicom_slices = [dicom.read_file(dicom_patient_path + '/' + s) for s in os.listdir(dicom_patient_path)] #read in the individual slices\n",
    "    dicom_slices.sort(key = lambda x: int(x.ImagePositionPatient[2])) #sort slices based on vertical position\n",
    "    dicom_img_slider.max = len(dicom_slices) - 1 #set the max of the image slider\n",
    "    plot_dicom_img()"
   ]
  },
  {
   "cell_type": "code",
   "execution_count": null,
   "metadata": {
    "collapsed": true
   },
   "outputs": [],
   "source": [
    "def plot_dicom_img(args = ''):\n",
    "    dicom_img = dicom_slices[dicom_img_slider.value].pixel_array #extract the image data from the selected slice\n",
    "    clear_output(wait = True)\n",
    "    fig, ax = plt.subplots(figsize=(7, 7))\n",
    "    ax.imshow(dicom_img,cmap=plt.cm.gray)\n",
    "    ax.axes.axis('off')"
   ]
  },
  {
   "cell_type": "code",
   "execution_count": null,
   "metadata": {
    "collapsed": false,
    "scrolled": false
   },
   "outputs": [],
   "source": [
    "dicom_patient_list.observe(load_dicom_patient,'value')\n",
    "dicom_img_slider.observe(plot_dicom_img,'value')\n",
    "\n",
    "display(dicom_patient_list)\n",
    "display(dicom_img_slider)\n",
    "\n",
    "load_dicom_patient()"
   ]
  },
  {
   "cell_type": "markdown",
   "metadata": {},
   "source": [
    "# RAW Image Viewer"
   ]
  },
  {
   "cell_type": "code",
   "execution_count": null,
   "metadata": {
    "collapsed": false
   },
   "outputs": [],
   "source": [
    "raw_path = 'E:\\\\LUNA16\\\\' #Hard code the location of the data\n",
    "all_files = os.listdir(raw_path)\n",
    "raw_patients = [i for i in all_files if '.mhd' in i]\n",
    "raw_patients = sorted(raw_patients)"
   ]
  },
  {
   "cell_type": "code",
   "execution_count": null,
   "metadata": {
    "collapsed": true
   },
   "outputs": [],
   "source": [
    "raw_patient_list = widgets.Select(description = 'Patients',options = raw_patients)  # populate the drop down with the sorted list of patients\n",
    "raw_img_slider = IntSlider(description = \"Image Number\", min = 0) # create image slider and set min = 0; we won't know the max until a patient is selected"
   ]
  },
  {
   "cell_type": "code",
   "execution_count": null,
   "metadata": {
    "collapsed": true
   },
   "outputs": [],
   "source": [
    "# Function to load a patient's data\n",
    "def load_raw_patient(args = ''):\n",
    "    raw_patient_path = os.path.join(raw_path,raw_patient_list.value)  #store the path to the selected patient\n",
    "    global raw_slices\n",
    "    raw_slices = sitk.ReadImage(raw_patient_path) \n",
    "    raw_slices = sitk.GetArrayFromImage(raw_slices)\n",
    "    raw_img_slider.max = len(raw_slices) - 1 #set the max of the image slider\n",
    "    plot_raw_img()"
   ]
  },
  {
   "cell_type": "code",
   "execution_count": null,
   "metadata": {
    "collapsed": true
   },
   "outputs": [],
   "source": [
    "def plot_raw_img(args = ''):\n",
    "    raw_img = raw_slices[raw_img_slider.value] #extract the image data from the selected slice\n",
    "    clear_output(wait = True)\n",
    "    fig, ax = plt.subplots(figsize=(7, 7))\n",
    "    ax.imshow(raw_img,cmap=plt.cm.gray)\n",
    "    ax.axes.axis('off')"
   ]
  },
  {
   "cell_type": "code",
   "execution_count": null,
   "metadata": {
    "collapsed": false
   },
   "outputs": [],
   "source": [
    "raw_patient_list.observe(load_raw_patient,'value')\n",
    "raw_img_slider.observe(plot_raw_img,'value')\n",
    "\n",
    "display(raw_patient_list)\n",
    "display(raw_img_slider)\n",
    "\n",
    "load_raw_patient()"
   ]
  },
  {
   "cell_type": "code",
   "execution_count": null,
   "metadata": {
    "collapsed": true
   },
   "outputs": [],
   "source": [
    "\n",
    "\n",
    "\n",
    "\n",
    "\n",
    "\n",
    "\n",
    "\n",
    "\n",
    "\n",
    "\n",
    "\n",
    "\n",
    "\n",
    "\n",
    "\n",
    "\n",
    "\n",
    "\n",
    "\n"
   ]
  }
 ],
 "metadata": {
  "anaconda-cloud": {},
  "kernelspec": {
   "display_name": "Python [Root]",
   "language": "python",
   "name": "Python [Root]"
  },
  "language_info": {
   "codemirror_mode": {
    "name": "ipython",
    "version": 2
   },
   "file_extension": ".py",
   "mimetype": "text/x-python",
   "name": "python",
   "nbconvert_exporter": "python",
   "pygments_lexer": "ipython2",
   "version": "2.7.12"
  },
  "widgets": {
   "state": {
    "6b7c07a93e6b4281bd47ba4ab4d7928d": {
     "views": [
      {
       "cell_index": 1
      }
     ]
    },
    "925d3bc1e44343aca4fbcc8c99597365": {
     "views": [
      {
       "cell_index": 1
      }
     ]
    },
    "92ab4159561941e698dacaad12451708": {
     "views": [
      {
       "cell_index": 1
      }
     ]
    },
    "94b7f649fe4c402081ef9c7c725b0587": {
     "views": [
      {
       "cell_index": 1
      }
     ]
    },
    "bbfbb06ab3cf44678851da0024723e50": {
     "views": [
      {
       "cell_index": 1
      }
     ]
    },
    "c81b60db27a342588c4c69629936e76c": {
     "views": [
      {
       "cell_index": 1
      }
     ]
    },
    "e8769794c753452cb40b9c98220b947b": {
     "views": [
      {
       "cell_index": 1
      }
     ]
    }
   },
   "version": "1.2.0"
  }
 },
 "nbformat": 4,
 "nbformat_minor": 1
}
