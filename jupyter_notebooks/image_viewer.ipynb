{
 "cells": [
  {
   "cell_type": "code",
   "execution_count": null,
   "metadata": {
    "collapsed": false
   },
   "outputs": [],
   "source": [
    "from ipywidgets import widgets, interact, interactive, IntSlider\n",
    "from IPython.display import display\n",
    "import dicom\n",
    "import numpy as np # linear algebra\n",
    "import pandas as pd # data processing, CSV file I/O (e.g. pd.read_csv)\n",
    "import scipy.ndimage\n",
    "import matplotlib.pyplot as plt\n",
    "import os\n",
    "scan_path = os.path.join(os.getcwd(),'stage1')\n",
    "patients = sorted(os.listdir(scan_path))"
   ]
  },
  {
   "cell_type": "code",
   "execution_count": null,
   "metadata": {
    "collapsed": false
   },
   "outputs": [],
   "source": [
    "patient_list = widgets.Select(description = 'Patients',options = patients)\n",
    "image_slider = IntSlider(description = \"Image Number\", min = 0)\n",
    "\n",
    "patient_path = os.path.join(scan_path,patient_list.value)\n",
    "image_list = os.listdir(patient_path)\n",
    "num_scans = len(os.listdir(patient_path))\n",
    "image_slider.max = num_scans\n",
    "\n",
    "img_pixels = dicom.read_file(os.path.join(patient_path,image_list[image_slider.value])).pixel_array\n",
    "my_img = plt.imshow(img_pixels,cmap=plt.cm.gray)\n",
    "plt.show()\n",
    "\n",
    "def update_image_slider(args):\n",
    "    patient_path = os.path.join(scan_path,args['new'])\n",
    "    num_scans = len(os.listdir(patient_path))\n",
    "    image_list = os.listdir(patient_path)\n",
    "    image_slider.max = num_scans\n",
    "    \n",
    "def view_image(args):\n",
    "    img = dicom.read_file(os.path.join(patient_path,image_list[int(args['new'])])) \n",
    "    img_pixels = img.pixel_array\n",
    "    my_img = plt.imshow(img_pixels,cmap=plt.cm.gray)\n",
    "    plt.show()\n",
    "    \n",
    "    \n",
    "patient_list.observe(update_image_slider,'value')\n",
    "image_slider.observe(view_image,'value')\n",
    "\n",
    "display(patient_list)\n",
    "display(image_slider)"
   ]
  }
 ],
 "metadata": {
  "anaconda-cloud": {},
  "kernelspec": {
   "display_name": "Python [Root]",
   "language": "python",
   "name": "Python [Root]"
  },
  "language_info": {
   "codemirror_mode": {
    "name": "ipython",
    "version": 2
   },
   "file_extension": ".py",
   "mimetype": "text/x-python",
   "name": "python",
   "nbconvert_exporter": "python",
   "pygments_lexer": "ipython2",
   "version": "2.7.12"
  },
  "widgets": {
   "state": {
    "6b7c07a93e6b4281bd47ba4ab4d7928d": {
     "views": [
      {
       "cell_index": 1
      }
     ]
    },
    "925d3bc1e44343aca4fbcc8c99597365": {
     "views": [
      {
       "cell_index": 1
      }
     ]
    },
    "92ab4159561941e698dacaad12451708": {
     "views": [
      {
       "cell_index": 1
      }
     ]
    },
    "94b7f649fe4c402081ef9c7c725b0587": {
     "views": [
      {
       "cell_index": 1
      }
     ]
    },
    "bbfbb06ab3cf44678851da0024723e50": {
     "views": [
      {
       "cell_index": 1
      }
     ]
    },
    "c81b60db27a342588c4c69629936e76c": {
     "views": [
      {
       "cell_index": 1
      }
     ]
    },
    "e8769794c753452cb40b9c98220b947b": {
     "views": [
      {
       "cell_index": 1
      }
     ]
    }
   },
   "version": "1.2.0"
  }
 },
 "nbformat": 4,
 "nbformat_minor": 1
}
