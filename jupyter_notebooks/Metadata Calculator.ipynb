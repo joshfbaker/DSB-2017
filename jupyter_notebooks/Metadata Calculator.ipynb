{
 "cells": [
  {
   "cell_type": "code",
   "execution_count": null,
   "metadata": {
    "collapsed": true
   },
   "outputs": [],
   "source": [
    "import os\n",
    "import numpy as np\n",
    "import pandas as pd\n",
    "import dicom\n",
    "import SimpleITK as sitk"
   ]
  },
  {
   "cell_type": "code",
   "execution_count": null,
   "metadata": {
    "collapsed": true
   },
   "outputs": [],
   "source": [
    "# Define important paths\n",
    "dicom_path = 'E:/DSB 2017/stage1/stage1'\n",
    "stage1_labels_path = 'E:/DSB 2017/stage1_labels.csv'\n",
    "raw_path = 'E:/LUNA16'\n",
    "annotations_path = \"E:/LUNA16/annotations.csv\""
   ]
  },
  {
   "cell_type": "markdown",
   "metadata": {},
   "source": [
    "# DSB Metadata"
   ]
  },
  {
   "cell_type": "code",
   "execution_count": null,
   "metadata": {
    "collapsed": false
   },
   "outputs": [],
   "source": [
    "dsb_metadata = pd.read_csv(stage1_labels_path, header = 0, names =['hex_id','cancer']) "
   ]
  },
  {
   "cell_type": "code",
   "execution_count": null,
   "metadata": {
    "collapsed": true
   },
   "outputs": [],
   "source": [
    "dsb_metadata.sort_values('hex_id',axis = 0, inplace= True)\n",
    "dsb_metadata.insert(0,\"int_id\",range(0,len(dsb_metadata)))\n",
    "dsb_metadata.insert(3,\"x_len (px)\",0)\n",
    "dsb_metadata.insert(4,\"y_len (px)\",0)\n",
    "dsb_metadata.insert(5,\"z_len (px)\",0)\n",
    "dsb_metadata.insert(6,\"x_mm/px\",0.0)\n",
    "dsb_metadata.insert(7,\"y_mm/px\",0.0)\n",
    "dsb_metadata.insert(8,\"z_mm/px\",0.0)\n",
    "dsb_metadata.insert(9,\"rescale_intercept\",0.0)\n",
    "dsb_metadata.insert(10,\"rescale_slope\",0.0)"
   ]
  },
  {
   "cell_type": "code",
   "execution_count": null,
   "metadata": {
    "collapsed": false
   },
   "outputs": [],
   "source": [
    "dsb_metadata['int_id'] = dsb_metadata['int_id'].apply(lambda x: '{0:0>4}'.format(x))"
   ]
  },
  {
   "cell_type": "code",
   "execution_count": null,
   "metadata": {
    "collapsed": false,
    "scrolled": true
   },
   "outputs": [],
   "source": [
    "dsb_metadata"
   ]
  },
  {
   "cell_type": "code",
   "execution_count": null,
   "metadata": {
    "collapsed": false,
    "scrolled": true
   },
   "outputs": [],
   "source": [
    "for p in range(0,1):#len(dsb_metadata)):\n",
    "    dicom_patient_path = dicom_path + '/' + dsb_metadata['hex_id'][p]\n",
    "    dicom_slices = [dicom.read_file(dicom_patient_path + '/' + s) for s in os.listdir(dicom_patient_path)] #read in the individual slices\n",
    "    dicom_slices.sort(key = lambda x: int(x.ImagePositionPatient[2])) #sort slices based on vertical position\n",
    "    \n",
    "    dsb_metadata.loc[p, \"x_len (px)\"] = dicom_slices[0].Rows\n",
    "    dsb_metadata.loc[p, \"y_len (px)\"] = dicom_slices[0].Columns\n",
    "    dsb_metadata.loc[p, \"z_len (px)\"] = len(dicom_slices)\n",
    "    \n",
    "    dsb_metadata.loc[p, \"x_mm/px\"] = dicom_slices[0].PixelSpacing[0]\n",
    "    dsb_metadata.loc[p, \"y_mm/px\"] = dicom_slices[0].PixelSpacing[1]\n",
    "    try:\n",
    "        dsb_metadata.loc[p, \"z_mm/px\"] = np.abs(dicom_slices[0].ImagePositionPatient[2] - dicom_slices[1].ImagePositionPatient[2])\n",
    "    except:\n",
    "        dsb_metadata.loc[p, \"z_mm/px\"] = np.abs(dicom_slices[0].SliceLocation - dicom_slices[1].SliceLocation)\n",
    "    \n",
    "    dsb_metadata.loc[p, \"rescale_intercept\"] = dicom_slices[0].RescaleIntercept\n",
    "    dsb_metadata.loc[p, \"rescale_slope\"] = dicom_slices[0].RescaleSlope\n",
    "    if p % 10 == 0:\n",
    "        print 'patient 0 through ' + str(p) + ' complete'\n",
    "    \n",
    "    del dicom_slices"
   ]
  },
  {
   "cell_type": "code",
   "execution_count": null,
   "metadata": {
    "collapsed": true
   },
   "outputs": [],
   "source": [
    "#Add Calculated Columns   \n",
    "dsb_metadata[\"x_len (mm)\"] = dsb_metadata[\"x_len (px)\"] * dsb_metadata[\"x_mm/px\"]\n",
    "dsb_metadata[\"y_len (mm)\"] = dsb_metadata[\"y_len (px)\"] * dsb_metadata[\"y_mm/px\"]\n",
    "dsb_metadata[\"z_len (mm)\"] = dsb_metadata[\"z_len (px)\"] * dsb_metadata[\"z_mm/px\"] \n",
    "\n",
    "dsb_metadata[\"volume (voxels)\"] = dsb_metadata[\"x_len (px)\"] * dsb_metadata[\"y_len (px)\"] * dsb_metadata[\"z_len (px)\"]\n",
    "dsb_metadata[\"volume (m^3)\"] = dsb_metadata[\"x_len (mm)\"] * dsb_metadata[\"y_len (mm)\"] * dsb_metadata[\"z_len (mm)\"] / 10**9"
   ]
  },
  {
   "cell_type": "code",
   "execution_count": null,
   "metadata": {
    "collapsed": false,
    "scrolled": true
   },
   "outputs": [],
   "source": [
    "dsb_metadata"
   ]
  },
  {
   "cell_type": "code",
   "execution_count": null,
   "metadata": {
    "collapsed": false
   },
   "outputs": [],
   "source": [
    "dsb_metadata.to_csv('DSB Metadata.csv', index = False)"
   ]
  },
  {
   "cell_type": "code",
   "execution_count": null,
   "metadata": {
    "collapsed": false
   },
   "outputs": [],
   "source": [
    "#Key Metrics\n",
    "num_patients = len(dsb_metadata)\n",
    "num_patients_w_cancer = dsb_metadata['cancer'].sum()\n",
    "perc_patients_w_cancer = num_patients_w_cancer / float(num_patients)\n",
    "\n",
    "total_num_slices = dsb_metadata['z_len (px)'].sum()\n",
    "avg_num_slices = dsb_metadata['z_len (px)'].mean()\n",
    "\n",
    "total_num_px = dsb_metadata['volume (voxels)'].sum()\n",
    "avg_num_px = dsb_metadata['volume (voxels)'].mean()\n",
    "\n",
    "avg_volume = dsb_metadata['volume (m^3)'].mean() \n",
    "max_volume = dsb_metadata['volume (m^3)'].max() "
   ]
  },
  {
   "cell_type": "code",
   "execution_count": null,
   "metadata": {
    "collapsed": false
   },
   "outputs": [],
   "source": [
    "print 'num_patients = ' + str(num_patients)\n",
    "print 'num_patients_w_cancer = ' + str(num_patients_w_cancer)\n",
    "print 'perc_patients_w_cancer = ' + str(perc_patients_w_cancer)\n",
    "print 'total_num_slices = ' + str(total_num_slices)\n",
    "print 'avg_num_slices = ' + str(avg_num_slices)\n",
    "print 'total_num_px = ' + str(total_num_px)\n",
    "print 'avg_num_pix = ' + str(avg_num_px)\n",
    "print 'avg_volume = ' + str(avg_volume)\n",
    "print 'max_volume = ' + str(max_volume)"
   ]
  },
  {
   "cell_type": "markdown",
   "metadata": {},
   "source": [
    "# LUNA Metadata"
   ]
  },
  {
   "cell_type": "code",
   "execution_count": null,
   "metadata": {
    "collapsed": false,
    "scrolled": true
   },
   "outputs": [],
   "source": [
    "cancer_annotations = pd.read_csv(annotations_path, header = 0)#Hard code the location of the annotations file\n",
    "cancer_annotations.insert(5,'vol',0)\n",
    "cancer_annotations.loc[:,'vol'] = 4/3 * 3.14159 * (cancer_annotations['diameter_mm'] / 2)  ** 3\n",
    "counts = cancer_annotations.groupby('seriesuid').count()\n",
    "volumes = cancer_annotations.groupby('seriesuid').sum()\n",
    "cancer_annotations_processed = pd.merge(counts, volumes, left_index=True, right_index=True)[['vol_x','vol_y']]\n",
    "cancer_annotations_processed.rename(index=str, columns={\"vol_x\": \"nodule_count\", \"vol_y\": \"sum_nodule_volume\"}, inplace = True)\n",
    "cancer_annotations_processed"
   ]
  },
  {
   "cell_type": "code",
   "execution_count": null,
   "metadata": {
    "collapsed": false
   },
   "outputs": [],
   "source": [
    "all_files = os.listdir(raw_path)\n",
    "raw_patients = [i for i in all_files if '.mhd' in i]\n",
    "raw_patients = sorted(raw_patients)\n",
    "patient_ids = [i[:-4] for i in raw_patients] #I did this to remove the \".mhd\" from the end of each of the patients numbers, just an aesthetic\n",
    "luna_metadata = pd.DataFrame({'hex_id':patient_ids}, dtype = 'object')"
   ]
  },
  {
   "cell_type": "code",
   "execution_count": null,
   "metadata": {
    "collapsed": false
   },
   "outputs": [],
   "source": [
    "luna_metadata.sort_values('hex_id',axis = 0, inplace= True)\n",
    "luna_metadata.insert(0,\"int_id\",range(0,len(luna_metadata)))\n",
    "luna_metadata.insert(2,\"x_len (px)\",0)\n",
    "luna_metadata.insert(3,\"y_len (px)\",0)\n",
    "luna_metadata.insert(4,\"z_len (px)\",0)\n",
    "luna_metadata.insert(5,\"x_mm/px\",0.0)\n",
    "luna_metadata.insert(6,\"y_mm/px\",0.0)\n",
    "luna_metadata.insert(7,\"z_mm/px\",0.0)"
   ]
  },
  {
   "cell_type": "code",
   "execution_count": null,
   "metadata": {
    "collapsed": false,
    "scrolled": true
   },
   "outputs": [],
   "source": [
    "luna_metadata"
   ]
  },
  {
   "cell_type": "code",
   "execution_count": null,
   "metadata": {
    "collapsed": false,
    "scrolled": true
   },
   "outputs": [],
   "source": [
    "for p in range(0,len(raw_patients)):\n",
    "    raw_slices = sitk.ReadImage(raw_path + '/' + luna_metadata['hex_id'][p] + '.mhd')\n",
    "    luna_metadata.loc[p,'x_len (px)'] = raw_slices.GetSize()[0]\n",
    "    luna_metadata.loc[p,'y_len (px)'] = raw_slices.GetSize()[1]\n",
    "    luna_metadata.loc[p,'z_len (px)'] = raw_slices.GetSize()[2]\n",
    "    \n",
    "    luna_metadata.loc[p,'x_mm/px'] = raw_slices.GetSpacing()[0]\n",
    "    luna_metadata.loc[p,'y_mm/px'] = raw_slices.GetSpacing()[1]\n",
    "    luna_metadata.loc[p,'z_mm/px'] = raw_slices.GetSpacing()[2]\n",
    "    \n",
    "    if p % 10 == 0:\n",
    "        print 'patient 0 through ' + str(p) + ' complete'\n",
    "    \n",
    "    del raw_slices"
   ]
  },
  {
   "cell_type": "code",
   "execution_count": null,
   "metadata": {
    "collapsed": true
   },
   "outputs": [],
   "source": [
    "#Add Calculated Columns   \n",
    "luna_metadata[\"x_len (mm)\"] = luna_metadata[\"x_len (px)\"] * luna_metadata[\"x_mm/px\"]\n",
    "luna_metadata[\"y_len (mm)\"] = luna_metadata[\"y_len (px)\"] * luna_metadata[\"y_mm/px\"]\n",
    "luna_metadata[\"z_len (mm)\"] = luna_metadata[\"z_len (px)\"] * luna_metadata[\"z_mm/px\"] \n",
    "\n",
    "luna_metadata[\"volume (voxels)\"] = luna_metadata[\"x_len (px)\"] * luna_metadata[\"y_len (px)\"] * luna_metadata[\"z_len (px)\"]\n",
    "luna_metadata[\"volume (m^3)\"] = luna_metadata[\"x_len (mm)\"] * luna_metadata[\"y_len (mm)\"] * luna_metadata[\"z_len (mm)\"] / 10**9"
   ]
  },
  {
   "cell_type": "code",
   "execution_count": null,
   "metadata": {
    "collapsed": false
   },
   "outputs": [],
   "source": [
    "luna_metadata = pd.merge(luna_metadata, cancer_annotations_processed, how = 'left', left_on= 'hex_id', right_index=True)\n",
    "luna_metadata['mean_nodule_volume'] = luna_metadata['sum_nodule_volume'] / luna_metadata['nodule_count']"
   ]
  },
  {
   "cell_type": "code",
   "execution_count": null,
   "metadata": {
    "collapsed": true
   },
   "outputs": [],
   "source": [
    "luna_metadata.to_csv('LUNA Metadata.csv', index = False)"
   ]
  },
  {
   "cell_type": "code",
   "execution_count": null,
   "metadata": {
    "collapsed": false
   },
   "outputs": [],
   "source": [
    "luna_metadata"
   ]
  },
  {
   "cell_type": "code",
   "execution_count": null,
   "metadata": {
    "collapsed": false
   },
   "outputs": [],
   "source": [
    "#Key Metrics\n",
    "num_patients = len(luna_metadata)\n",
    "\n",
    "total_num_slices = luna_metadata['z_len (px)'].sum()\n",
    "avg_num_slices = luna_metadata['z_len (px)'].mean()\n",
    "\n",
    "total_num_px = luna_metadata['volume (voxels)'].sum()\n",
    "avg_num_px = luna_metadata['volume (voxels)'].mean()\n",
    "\n",
    "avg_volume = luna_metadata['volume (m^3)'].mean() \n",
    "max_volume = luna_metadata['volume (m^3)'].max() "
   ]
  },
  {
   "cell_type": "code",
   "execution_count": null,
   "metadata": {
    "collapsed": false
   },
   "outputs": [],
   "source": [
    "print 'num_patients = ' + str(num_patients)\n",
    "print 'total_num_slices = ' + str(total_num_slices)\n",
    "print 'avg_num_slices = ' + str(avg_num_slices)\n",
    "print 'total_num_px = ' + str(total_num_px)\n",
    "print 'avg_num_pix = ' + str(avg_num_px)\n",
    "print 'avg_volume = ' + str(avg_volume)\n",
    "print 'max_volume = ' + str(max_volume)"
   ]
  },
  {
   "cell_type": "code",
   "execution_count": null,
   "metadata": {
    "collapsed": true
   },
   "outputs": [],
   "source": []
  }
 ],
 "metadata": {
  "anaconda-cloud": {},
  "kernelspec": {
   "display_name": "Python [Root]",
   "language": "python",
   "name": "Python [Root]"
  },
  "language_info": {
   "codemirror_mode": {
    "name": "ipython",
    "version": 2
   },
   "file_extension": ".py",
   "mimetype": "text/x-python",
   "name": "python",
   "nbconvert_exporter": "python",
   "pygments_lexer": "ipython2",
   "version": "2.7.12"
  }
 },
 "nbformat": 4,
 "nbformat_minor": 0
}
