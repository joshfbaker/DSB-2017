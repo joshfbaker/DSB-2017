{
 "cells": [
  {
   "cell_type": "markdown",
   "metadata": {},
   "source": [
    "# Image Viewer\n",
    "\n",
    "So we've finally done it folks. In the raw image viewer code, you will see some extra lines to add a red circle to known locations of malignant tumors based on the annotations csv file.  When you run the code and start playing with the slice viewer, you will find right above the image slider there is a label that displays the slice numbers that correspond to the center of the malignant tumors.  Code explanation:\n",
    "* Python gets the origin and the spacing of the individual patient's CT scan.  These are usually unique for each patient, so it has to be calculated each time (maybe we'll add a cache feature later)\n",
    "* Python finds the patient, selected in the dropdown, in the dataframe/annotations.csv file (if they exist in the file)\n",
    "* If the patient is in the annotations files, python subsets the annotations dataframe for just the patient we selected in the dropdown\n",
    "* Python drops the seriesuid (patient ID) column for simplicity later on; I figured we wouldn't need that column in the dataframe anymore\n",
    "* Python then transforms the x, y, z, and diameter coordinates from millimeters to voxel (3D pixel) coordinates.  This is accomplished by subtracting the respective axis origin found with GetOrigin() and dividing by the respective axis spacing found with GetSpacing()\n",
    "* Python then applies a rounding function to every element of the dataframe (the patient ID column would have thrown an error if it hadn't been dropped). Since pixels and slice numbers of the raw file array are in whole numbers, our coordinates have to be whole numbers too.\n",
    "* Once the coordinates are calculated for a patient with cancer, when you (the user) select a patient and slice within the widgets, matplotlib adds a circle/\"patch\" to the image circling the tumor based on the transformed coordinates.  One note is that I made the circle a little larger than the specified diameter so we can see what the tumor really looks like; in some instances, however, the tumor is much larger than the circle.\n",
    "\n",
    "I made it work, now let's make it work better.  Make sure my rounding/math is logical and commit changes to fix my mistakes and make the code run more smoothly.  Good hunting!\n",
    "\n",
    "# DICOM Image Viewer"
   ]
  },
  {
   "cell_type": "code",
   "execution_count": null,
   "metadata": {
    "collapsed": false
   },
   "outputs": [],
   "source": [
    "%%cmd\n",
    "pip install pydicom\n",
    "pip install SimpleITK"
   ]
  },
  {
   "cell_type": "code",
   "execution_count": null,
   "metadata": {
    "collapsed": true
   },
   "outputs": [],
   "source": [
    "#Load necessary packages\n",
    "import os\n",
    "import dicom\n",
    "import SimpleITK as sitk\n",
    "import numpy as np\n",
    "import pandas as pd\n",
    "from ipywidgets import widgets, interact, interactive, IntSlider\n",
    "from IPython.display import display,clear_output\n",
    "import matplotlib.pyplot as plt\n",
    "from matplotlib.patches import Circle\n",
    "%matplotlib inline"
   ]
  },
  {
   "cell_type": "code",
   "execution_count": null,
   "metadata": {
    "collapsed": true
   },
   "outputs": [],
   "source": [
    "#Hard coded paths\n",
    "dicom_path = 'E:/DSB 2017/stage1/stage1' #Hard code the location of the stage1 data \n",
    "stage1_labels_path = 'E:/DSB 2017/stage1_labels.csv'\n",
    "raw_path = 'E:/LUNA16' #Hard code the location of the data\n",
    "annotations_path = \"E:/LUNA16/annotations.csv\""
   ]
  },
  {
   "cell_type": "code",
   "execution_count": null,
   "metadata": {
    "collapsed": false
   },
   "outputs": [],
   "source": [
    "# Load list of all patients\n",
    "\n",
    "dicom_patients = sorted(os.listdir(dicom_path))\n",
    "dicom_patients_indexlist = [str(patientindex) + ': ' for patientindex in range(0, len(dicom_patients))]#I made this list because I wanted to prepend the list of patients with their numerical id\n",
    "stage1_labels = pd.read_csv(stage1_labels_path, header = 0) #hard code the location of your stage1_labels.csv file\n",
    "stage1_cancer = []\n",
    "for s in stage1_labels.cancer:\n",
    "    if s == 1: \n",
    "        stage1_cancer.append(\" ^ \")\n",
    "    elif s == 0:\n",
    "        stage1_cancer.append(\"\")\n",
    "#above: this for loop creates a list of either carets or nothing that corresponds to whether a patient in the stage1_labels csv file has cancer or not\n",
    "combined_stage1_list = [x+y+z for x,y,z in zip(dicom_patients_indexlist, stage1_cancer, dicom_patients)] #this creates a list of patient ids and carets (or nothing) if they have cancer, and then the actual patient number\n",
    "\n",
    "#Instantiate Controls\n",
    "dicom_patient_list = widgets.Select(description = 'Patients',options = combined_stage1_list)  # populate the drop down with the sorted list of patients, \n",
    "    #with their appropriate index number and a ^ at the end if the patient has cancer according to the stage1_labels.csv file\n",
    "dicom_img_slider = IntSlider(description = \"Image Number\", min = 0, value = 0) # create image slider and set min = 0; we won't know the max until a patient is selected\n",
    "#play_scan = widgets.Play(min = 0,\n",
    "                         #step = 1,\n",
    "                         #description = \"Play CT scan\",\n",
    "                         #disabled = False)\n",
    "#The above play_scan button was an attempt to create a play button to \"play\" the CT scans, but we have to figure out how to slow down the playing of images so the images have enough time to render on the screen; right now the player moves too quickly\n",
    "#Also, for asthetics, it would be great if the pictures would fade in and out instead of flashing like they do"
   ]
  },
  {
   "cell_type": "code",
   "execution_count": null,
   "metadata": {
    "collapsed": false
   },
   "outputs": [],
   "source": [
    "os.path.join(dicom_path,dicom_patients[dicom_patient_list.options.index(dicom_patient_list.value)])"
   ]
  },
  {
   "cell_type": "code",
   "execution_count": null,
   "metadata": {
    "collapsed": true
   },
   "outputs": [],
   "source": [
    "# Function to load a patient's data\n",
    "def load_dicom_patient(args = ''):\n",
    "    dicom_patient_path = os.path.join(dicom_path,dicom_patients[dicom_patient_list.options.index(dicom_patient_list.value)])  #store the path to the selected patient.\n",
    "    #above, within the .join(), this goofy setup ensures the patient value is grabbed, then the index of that patient within the overall dicom patient list, then that index is fed into the dicom_patients list to get the real patient number.  If someone can find a more simple method for this, please commit.\n",
    "    global dicom_slices\n",
    "    dicom_slices = [dicom.read_file(dicom_patient_path + '/' + s) for s in os.listdir(dicom_patient_path)] #read in the individual slices\n",
    "    dicom_slices.sort(key = lambda x: int(x.ImagePositionPatient[2])) #sort slices based on vertical position\n",
    "    dicom_img_slider.max = len(dicom_slices) - 1 #set the max of the image slider\n",
    "    #play_scan.max = len(dicom_slices) - 1 #set the max of the play_scan widget\n",
    "    plot_dicom_img()\n",
    "    \n",
    "def plot_dicom_img(args = ''):\n",
    "    dicom_img = dicom_slices[dicom_img_slider.value].pixel_array #extract the image data from the selected slice\n",
    "    clear_output(wait = True)\n",
    "    fig, ax = plt.subplots(figsize=(7, 7))\n",
    "    ax.imshow(dicom_img,cmap=plt.cm.gray)\n",
    "    ax.axes.axis('off')"
   ]
  },
  {
   "cell_type": "code",
   "execution_count": null,
   "metadata": {
    "collapsed": false
   },
   "outputs": [],
   "source": [
    "dicom_patient_list.observe(load_dicom_patient,'value')\n",
    "#play_scan.observe(plot_dicom_img,'value')\n",
    "dicom_img_slider.observe(plot_dicom_img,'value')\n",
    "\n",
    "#widgets.jslink((play_scan, 'value'), (dicom_img_slider, 'value')) #this widget is to link the play button and the slider so the numbers correspond\n",
    "\n",
    "display(dicom_patient_list)\n",
    "#display(play_scan)\n",
    "display(dicom_img_slider)\n",
    "\n",
    "load_dicom_patient()"
   ]
  },
  {
   "cell_type": "markdown",
   "metadata": {},
   "source": [
    "# RAW Image Viewer"
   ]
  },
  {
   "cell_type": "code",
   "execution_count": null,
   "metadata": {
    "collapsed": false
   },
   "outputs": [],
   "source": [
    "all_files = os.listdir(raw_path)\n",
    "raw_patients = [i for i in all_files if '.mhd' in i]\n",
    "raw_patients = sorted(raw_patients)\n",
    "raw_patients = [i[:-4] for i in raw_patients] #I did this to remove the \".mhd\" from the end of each of the patients numbers, just an aesthetic\n",
    "raw_patients_indexlist = [str(patientindex) + ': ' for patientindex in range(0, len(raw_patients))]\n",
    "\n",
    "cancer_annotations = pd.read_csv(annotations_path, header = 0)#Hard code the location of the annotations file\n",
    "cancerannotations_list = sorted(list(set(cancer_annotations['seriesuid'].tolist())))\n",
    "LUNA16_cancer = []\n",
    "for i in raw_patients:\n",
    "    try:\n",
    "        cancerannotations_list.index(i)\n",
    "        LUNA16_cancer.append(\" * \")\n",
    "    except: \n",
    "        LUNA16_cancer.append(\"\")\n",
    "\n",
    "combined_raw_list = [x+y+z for x,y,z in zip(raw_patients_indexlist, LUNA16_cancer, raw_patients)]\n",
    "        \n",
    "raw_patient_list = widgets.Select(description = 'Patients',options = combined_raw_list)  # populate the drop down with the sorted list of patients\n",
    "raw_img_slider = IntSlider(description = \"Image Number\", min = 0) # create image slider and set min = 0; we won't know the max until a patient is selected\n",
    "#cancer_labels = widgets.Label() # this is a label that displays the slice number of malignant tumor centers"
   ]
  },
  {
   "cell_type": "code",
   "execution_count": null,
   "metadata": {
    "collapsed": false
   },
   "outputs": [],
   "source": [
    "def get_cancer_coordinates():\n",
    "    raw_spacing = raw_slices.GetSpacing() #grabs the raw file spacing\n",
    "    raw_origin = raw_slices.GetOrigin() # grabs the raw file origin \n",
    "    if raw_patients[raw_patient_list.options.index(raw_patient_list.value)] in cancer_annotations.seriesuid.values:\n",
    "        patient_annotations = cancer_annotations[cancer_annotations.seriesuid == raw_patients[raw_patient_list.options.index(raw_patient_list.value)]] #this line subsets the annotations file for just the patient selected in the dropdown\n",
    "        patient_annotations_transform = patient_annotations.drop('seriesuid', axis = 1) #dropping the patient ID column\n",
    "        patient_annotations_transform.loc[:,'coordX'] = patient_annotations_transform.loc[:,'coordX'] - raw_origin[0]# the next ~7 lines transforms our coordinates from mm/world coordinates to voxel coordinates \n",
    "        patient_annotations_transform.loc[:,'coordY'] = patient_annotations_transform.loc[:,'coordY'] - raw_origin[1]\n",
    "        patient_annotations_transform.loc[:,'coordZ'] = patient_annotations_transform.loc[:,'coordZ'] - raw_origin[2]\n",
    "        patient_annotations_transform.loc[:,'coordX'] = patient_annotations_transform.loc[:,'coordX'] / raw_spacing[0]\n",
    "        patient_annotations_transform.loc[:,'coordY'] = patient_annotations_transform.loc[:,'coordY'] / raw_spacing[1]\n",
    "        patient_annotations_transform.loc[:,'coordZ'] = patient_annotations_transform.loc[:,'coordZ'] / raw_spacing[2]\n",
    "        patient_annotations_transform.loc[:,'diameter_mm'] = patient_annotations_transform.loc[:,'diameter_mm'] / raw_spacing[0]\n",
    "        patient_annotations_transform = patient_annotations_transform.applymap(round) #the rounding function applied to all elements\n",
    "        return patient_annotations_transform\n",
    "    else: return pd.DataFrame()\n",
    "    \n",
    "def load_raw_patient(args = ''):\n",
    "    raw_patient_path = os.path.join(raw_path,raw_patients[raw_patient_list.options.index(raw_patient_list.value)]+'.mhd')  #store the path to the selected patient\n",
    "    global raw_slices, raw_slices_array\n",
    "    raw_slices = sitk.ReadImage(raw_patient_path)\n",
    "    raw_slices_array = sitk.GetArrayFromImage(raw_slices)\n",
    "    raw_img_slider.max = len(raw_slices_array) - 1 #set the max of the image slider\n",
    "    #patient_annotations_transform = get_cancer_coordinates()\n",
    "    #if not patient_annotations_transform.empty:\n",
    "        #raw_img_slider.value = sorted([int(i) for i in patient_annotations_transform.coordZ.values])[0]\n",
    "    #else: raw_img_slider.value = 0\n",
    "    raw_img_slider.value = 0\n",
    "    plot_raw_img()\n",
    "    \n",
    "def plot_raw_img(args = ''):\n",
    "    clear_output()\n",
    "    raw_img = raw_slices_array[raw_img_slider.value] #extract the image data from the selected slice\n",
    "\n",
    "    patient_annotations_transform = get_cancer_coordinates()\n",
    "    fig, ax = plt.subplots(figsize=(7, 7))\n",
    "    ax.imshow(raw_img,cmap=plt.cm.gray)\n",
    "    ax.axes.axis('off')\n",
    "    \n",
    "    if not patient_annotations_transform.empty:\n",
    "        #cancer_labels.value = \"Slice number(s) of malignant tumors: \"+', '.join([str(i) for i in sorted([int(i) for i in patient_annotations_transform.coordZ.values])]) #this line sets the value of the tumor slice label\n",
    "        print \"Slice number(s) of malignant tumors: \"+', '.join([str(i) for i in sorted([int(i) for i in patient_annotations_transform.coordZ.values])]) #this line sets the value of the tumor slice label\n",
    "        if raw_img_slider.value in patient_annotations_transform.coordZ.values:\n",
    "            x = patient_annotations_transform.loc[patient_annotations_transform['coordZ']==raw_img_slider.value].coordX.values #the three lines below create ordered lists of x, y, and radius coordinates of the tumor if the slice number corresponds to a known z coordinate (z coordinates = slice numbers)\n",
    "            y = patient_annotations_transform.loc[patient_annotations_transform['coordZ']==raw_img_slider.value].coordY.values\n",
    "            r = np.round(patient_annotations_transform.loc[patient_annotations_transform['coordZ']==raw_img_slider.value].diameter_mm.values/2, decimals = 0)\n",
    "            for xx,yy,rr in zip(x,y,r):\n",
    "                circ = Circle((xx,yy), radius = (rr+4), fill = False, edgecolor = 'red') #I put rr+4 because I wanted to make the circle a little bigger than the tumor so we could see the tumor fairly clearly\n",
    "                ax.add_patch(circ)\n",
    "                #the above for loop creates a circle, from the correctly ordered x, y, and radius coordinates, that outlines the malignant tumor in red\n",
    "    else: \n",
    "        print \"This patient does not have malignant tumor cells\""
   ]
  },
  {
   "cell_type": "code",
   "execution_count": null,
   "metadata": {
    "collapsed": false,
    "scrolled": false
   },
   "outputs": [],
   "source": [
    "raw_patient_list.observe(load_raw_patient,'value')\n",
    "raw_img_slider.observe(plot_raw_img,'value')\n",
    "\n",
    "display(raw_patient_list)\n",
    "#display(cancer_labels)\n",
    "display(raw_img_slider)\n",
    "\n",
    "load_raw_patient()"
   ]
  },
  {
   "cell_type": "code",
   "execution_count": null,
   "metadata": {
    "collapsed": true
   },
   "outputs": [],
   "source": []
  }
 ],
 "metadata": {
  "anaconda-cloud": {},
  "kernelspec": {
   "display_name": "Python [Root]",
   "language": "python",
   "name": "Python [Root]"
  },
  "language_info": {
   "codemirror_mode": {
    "name": "ipython",
    "version": 2
   },
   "file_extension": ".py",
   "mimetype": "text/x-python",
   "name": "python",
   "nbconvert_exporter": "python",
   "pygments_lexer": "ipython2",
   "version": "2.7.12"
  },
  "widgets": {
   "state": {
    "0351e7488a8d42cf9ea36101998407c6": {
     "views": [
      {
       "cell_index": 4
      }
     ]
    },
    "1980456154d04d3f9e80f480deaa36cc": {
     "views": [
      {
       "cell_index": 8
      }
     ]
    },
    "261aa5f7c7f247e6964627badbe6ce94": {
     "views": [
      {
       "cell_index": 8
      }
     ]
    },
    "7e3ce5962c79493987adbe323a1ba309": {
     "views": [
      {
       "cell_index": 4
      }
     ]
    },
    "ac596de0e30e4e44b0c6eb21bfe11155": {
     "views": [
      {
       "cell_index": 8
      }
     ]
    }
   },
   "version": "1.2.0"
  }
 },
 "nbformat": 4,
 "nbformat_minor": 1
}
