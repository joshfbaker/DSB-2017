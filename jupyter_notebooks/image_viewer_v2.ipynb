{
 "cells": [
  {
   "cell_type": "markdown",
   "metadata": {},
   "source": [
    "# Image Viewer\n",
    "\n",
    "So this code adds indexes to both dropdown lists and carents for cancer patients in the dicom files and astericks for cancer patients in the LUNA16 dropdown list.  I will also be committing a little more code to circle the malignant nodules in the LUNA16 data set, and will likely display the slice number where the malignant tumors are located.  The real-world x, y, and z coordinates along with the diameter (all measured in mm) of the malignant cells are found in the annotations csv file included in the LUNA16 data collection.  Feel free to commit any changes that makes this image viewer faster.  \n",
    "\n",
    "An important note about the annotations.csv is that the coordinates and diameter in this file are in millimeters (I'm pretty sure) and need to be converted into voxel (3D pixels) spacing depending on the spacing of each LUNA16 patients CT scan calibration so we can circle the nodule.  I'll be adding comments in the code, but it's important to keep the structure of the image array, and the structure of sitk.GetOrigin() and sitk.GetSpacing() lists in check so we're dividing and subtracting correctly.  It will all make sense in my comments, but it was frustrating to find hard documentation on how numpy arrays, and SimpleITK, ordered pixels/the ct origin/the ct scan spacing lists:\n",
    "\n",
    "* Numpy arrays of the CT scan have the shape displayed as [z,y,x].\n",
    "* GetOrigin() command displays (x, y, z), which is the voxel origin of the CT scan.  \n",
    "* GetSpacing() command displayes either (x, y, z) or (y, x, z), I'm not sure which, but I ran a loop and x was always equalled y in a small subset of the data, so I guess the order doesn't matter.\n",
    "\n",
    "Anyway, make commits as you need to and let's try and speed this code up a little bit, if possible. One thing that irks me is how the CT scans flash whenever a new scan is selected in the image slider; it would be great if we could somehow find a way to make the images fade in and out so it's less choppy.  Good hunting!\n",
    "\n",
    "# DICOM Image Viewer"
   ]
  },
  {
   "cell_type": "code",
   "execution_count": null,
   "metadata": {
    "collapsed": true
   },
   "outputs": [],
   "source": [
    "%%cmd\n",
    "pip install pydicom\n",
    "pip install SimpleITK"
   ]
  },
  {
   "cell_type": "code",
   "execution_count": null,
   "metadata": {
    "collapsed": false
   },
   "outputs": [],
   "source": [
    "import os\n",
    "import dicom\n",
    "import SimpleITK as sitk\n",
    "import numpy as np\n",
    "import pandas as pd\n",
    "from ipywidgets import widgets, interact, interactive, IntSlider, Layout\n",
    "from IPython.display import display,clear_output\n",
    "import matplotlib.pyplot as plt\n",
    "%matplotlib inline\n",
    "\n",
    "# Load list of all patients\n",
    "dicom_path = 'C:/Users/572203/Documents/Data Science Bowl 2017/stage1/stage1' #Hard code the location of the stage1 data \n",
    "dicom_patients = sorted(os.listdir(dicom_path))\n",
    "dicom_patients_indexlist = [str(patientindex) + ': ' for patientindex in range(0, len(dicom_patients))]#I made this list because I wanted to prepend the list of patients with their numerical id\n",
    "stage1_labels = pd.read_csv('C:/Users/572203/Documents/Data Science Bowl 2017/stage1_labels.csv', header = 0) #hard code the location of your stage1_labels.csv file\n",
    "stage1_cancer = []\n",
    "for s in stage1_labels.cancer:\n",
    "    if s == 1: \n",
    "        stage1_cancer.append(\" ^ \")\n",
    "    elif s == 0:\n",
    "        stage1_cancer.append(\"\")\n",
    "#above: this for loop creates a list of either carets or nothing that corresponds to whether a patient in the stage1_labels csv file has cancer or not\n",
    "combined_stage1_list = [x+y+z for x,y,z in zip(dicom_patients_indexlist, stage1_cancer, dicom_patients)] #this creates a list of patient ids and carets (or nothing) if they have cancer, and then the actual patient number\n",
    "\n",
    "#Instantiate Controls\n",
    "dicom_patient_list = widgets.Select(description = 'Patients',options = combined_stage1_list)  # populate the drop down with the sorted list of patients, \n",
    "    #with their appropriate index number and a ^ at the end if the patient has cancer according to the stage1_labels.csv file\n",
    "dicom_img_slider = IntSlider(description = \"Image Number\", min = 0, value = 0) # create image slider and set min = 0; we won't know the max until a patient is selected\n",
    "#play_scan = widgets.Play(min = 0,\n",
    "                         #step = 1,\n",
    "                         #description = \"Play CT scan\",\n",
    "                         #disabled = False)\n",
    "#The above play_scan button was an attempt to create a play button to \"play\" the CT scans, but we have to figure out how to slow down the playing of images so the images have enough time to render on the screen; right now the player moves too quickly\n",
    "#Also, for asthetics, it would be great if the pictures would fade in and out instead of flashing like they do"
   ]
  },
  {
   "cell_type": "code",
   "execution_count": null,
   "metadata": {
    "collapsed": true
   },
   "outputs": [],
   "source": [
    "# Function to load a patient's data\n",
    "def load_dicom_patient(args = ''):\n",
    "    dicom_patient_path = os.path.join(dicom_path,dicom_patients[dicom_patient_list.options.index(dicom_patient_list.value)])  #store the path to the selected patient.\n",
    "    #above, within the .join(), this goofy setup ensures the patient value is grabbed, then the index of that patient within the overall dicom patient list, then that index is fed into the dicom_patients list to get the real patient number.  If someone can find a more simple method for this, please commit.\n",
    "    global dicom_slices\n",
    "    dicom_slices = [dicom.read_file(dicom_patient_path + '/' + s) for s in os.listdir(dicom_patient_path)] #read in the individual slices\n",
    "    dicom_slices.sort(key = lambda x: int(x.ImagePositionPatient[2])) #sort slices based on vertical position\n",
    "    dicom_img_slider.max = len(dicom_slices) - 1 #set the max of the image slider\n",
    "    #play_scan.max = len(dicom_slices) - 1 #set the max of the play_scan widget\n",
    "    plot_dicom_img()\n",
    "    \n",
    "def plot_dicom_img(args = ''):\n",
    "    dicom_img = dicom_slices[dicom_img_slider.value].pixel_array #extract the image data from the selected slice\n",
    "    clear_output(wait = True)\n",
    "    fig, ax = plt.subplots(figsize=(7, 7))\n",
    "    ax.imshow(dicom_img,cmap=plt.cm.gray)\n",
    "    ax.axes.axis('off')"
   ]
  },
  {
   "cell_type": "code",
   "execution_count": null,
   "metadata": {
    "collapsed": false
   },
   "outputs": [],
   "source": [
    "dicom_patient_list.observe(load_dicom_patient,'value')\n",
    "#play_scan.observe(plot_dicom_img,'value')\n",
    "dicom_img_slider.observe(plot_dicom_img,'value')\n",
    "\n",
    "#widgets.jslink((play_scan, 'value'), (dicom_img_slider, 'value')) #this widget is to link the play button and the slider so the numbers correspond\n",
    "\n",
    "display(dicom_patient_list)\n",
    "#display(play_scan)\n",
    "display(dicom_img_slider)\n",
    "\n",
    "load_dicom_patient()"
   ]
  },
  {
   "cell_type": "markdown",
   "metadata": {},
   "source": [
    "# RAW Image Viewer"
   ]
  },
  {
   "cell_type": "code",
   "execution_count": null,
   "metadata": {
    "collapsed": false
   },
   "outputs": [],
   "source": [
    "import os\n",
    "import dicom\n",
    "import SimpleITK as sitk\n",
    "import numpy as np\n",
    "import pandas as pd\n",
    "from ipywidgets import widgets, interact, interactive, IntSlider\n",
    "from IPython.display import display,clear_output, display_pretty\n",
    "import matplotlib.pyplot as plt\n",
    "%matplotlib inline\n",
    "\n",
    "raw_path = 'C:/Users/572203/Documents/Data Science Bowl 2017/LUNA16/subset0/subset0' #Hard code the location of the data\n",
    "all_files = os.listdir(raw_path)\n",
    "raw_patients = [i for i in all_files if '.mhd' in i]\n",
    "raw_patients = sorted(raw_patients)\n",
    "raw_patients = [i[:-4] for i in raw_patients] #I did this to remove the \".mhd\" from the end of each of the patients numbers, just an aesthetic\n",
    "raw_patients_indexlist = [str(patientindex) + ': ' for patientindex in range(0, len(raw_patients))]\n",
    "\n",
    "cancer_candidates = pd.read_csv(\"C:/Users/572203/Documents/Data Science Bowl 2017/LUNA16/annotations.csv\", header = 0)#Hard code the location of the annotations file\n",
    "cancercandidates_list = sorted(list(set(cancer_candidates['seriesuid'].tolist())))\n",
    "LUNA16_cancer = []\n",
    "for i in raw_patients:\n",
    "    try:\n",
    "        cancercandidates_list.index(i)\n",
    "        LUNA16_cancer.append(\" * \")\n",
    "    except: \n",
    "        LUNA16_cancer.append(\"\")\n",
    "\n",
    "combined_raw_list = [x+y+z for x,y,z in zip(raw_patients_indexlist, LUNA16_cancer, raw_patients)]\n",
    "        \n",
    "raw_patient_list = widgets.Select(description = 'Patients',options = combined_raw_list)  # populate the drop down with the sorted list of patients\n",
    "raw_img_slider = IntSlider(description = \"Image Number\", min = 0) # create image slider and set min = 0; we won't know the max until a patient is selected"
   ]
  },
  {
   "cell_type": "code",
   "execution_count": null,
   "metadata": {
    "collapsed": true
   },
   "outputs": [],
   "source": [
    "def load_raw_patient(args = ''):\n",
    "    raw_patient_path = os.path.join(raw_path,raw_patients[raw_patient_list.options.index(raw_patient_list.value)]+'.mhd')  #store the path to the selected patient\n",
    "    global raw_slices\n",
    "    raw_slices = sitk.ReadImage(raw_patient_path)\n",
    "    raw_slices = sitk.GetArrayFromImage(raw_slices)\n",
    "    raw_img_slider.max = len(raw_slices) - 1 #set the max of the image slider\n",
    "    plot_raw_img()\n",
    "\n",
    "def plot_raw_img(args = ''):\n",
    "    raw_img = raw_slices[raw_img_slider.value] #extract the image data from the selected slice\n",
    "    clear_output(wait = True)\n",
    "    fig, ax = plt.subplots(figsize=(7, 7))\n",
    "    ax.imshow(raw_img,cmap=plt.cm.gray)\n",
    "    ax.axes.axis('off')"
   ]
  },
  {
   "cell_type": "code",
   "execution_count": null,
   "metadata": {
    "collapsed": false
   },
   "outputs": [],
   "source": [
    "raw_patient_list.observe(load_raw_patient,'value')\n",
    "raw_img_slider.observe(plot_raw_img,'value')\n",
    "\n",
    "display(raw_patient_list)\n",
    "display(raw_img_slider)\n",
    "\n",
    "load_raw_patient()"
   ]
  },
  {
   "cell_type": "code",
   "execution_count": null,
   "metadata": {
    "collapsed": true
   },
   "outputs": [],
   "source": []
  }
 ],
 "metadata": {
  "anaconda-cloud": {},
  "kernelspec": {
   "display_name": "Python [Root]",
   "language": "python",
   "name": "Python [Root]"
  },
  "language_info": {
   "codemirror_mode": {
    "name": "ipython",
    "version": 2
   },
   "file_extension": ".py",
   "mimetype": "text/x-python",
   "name": "python",
   "nbconvert_exporter": "python",
   "pygments_lexer": "ipython2",
   "version": "2.7.12"
  },
  "widgets": {
   "state": {
    "18209135127e4ab7ade73e52ec4abffd": {
     "views": [
      {
       "cell_index": 4
      }
     ]
    },
    "2cf71dadfddb49a6ab06e28332754475": {
     "views": [
      {
       "cell_index": 2
      }
     ]
    },
    "95ad055bf9584458b085989c11c23734": {
     "views": [
      {
       "cell_index": 4
      }
     ]
    },
    "96c08dc611934a728a4443c939fbd858": {
     "views": [
      {
       "cell_index": 2
      }
     ]
    }
   },
   "version": "1.2.0"
  }
 },
 "nbformat": 4,
 "nbformat_minor": 1
}
